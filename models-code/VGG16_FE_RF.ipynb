{
  "nbformat": 4,
  "nbformat_minor": 0,
  "metadata": {
    "colab": {
      "name": "VGG16-FE-RF.ipynb",
      "provenance": []
    },
    "kernelspec": {
      "name": "python3",
      "display_name": "Python 3"
    },
    "language_info": {
      "name": "python"
    }
  },
  "cells": [
    {
      "cell_type": "code",
      "execution_count": null,
      "metadata": {
        "colab": {
          "base_uri": "https://localhost:8080/"
        },
        "id": "2prZRTo0uIU7",
        "outputId": "530cbdd4-7ead-4039-ca59-10235ca099e4"
      },
      "outputs": [
        {
          "output_type": "stream",
          "name": "stdout",
          "text": [
            "Mounted at /content/drive\n"
          ]
        }
      ],
      "source": [
        "from google.colab import drive\n",
        "drive.mount('/content/drive')"
      ]
    },
    {
      "cell_type": "code",
      "source": [
        "#train_file = \"/content/drive/MyDrive/FYP/datasetAG.zip\"\n",
        "train_file = \"/content/drive/MyDrive/FYP/dataset.zip\"\n",
        "\n",
        "import zipfile\n",
        "\n",
        "with zipfile.ZipFile(train_file, 'r') as z:\n",
        "    z.extractall()"
      ],
      "metadata": {
        "id": "vfn9FvVVuO8N"
      },
      "execution_count": null,
      "outputs": []
    },
    {
      "cell_type": "code",
      "source": [
        "from tensorflow.keras import optimizers\n",
        "from keras.models import Model, Sequential\n",
        "from keras.preprocessing.image import ImageDataGenerator\n",
        "from keras import layers\n",
        "from keras import models\n",
        "import numpy as np\n",
        "import os"
      ],
      "metadata": {
        "id": "itH4WFcvuO5e"
      },
      "execution_count": null,
      "outputs": []
    },
    {
      "cell_type": "code",
      "source": [
        "train_datagen = ImageDataGenerator(\n",
        "        rescale=1./255,\n",
        "        #rotation_range=10,\n",
        "        #width_shift_range=0.1,\n",
        "        #height_shift_range=0.1,\n",
        "        ##brightness_range=[0.4,0.7],\n",
        "        ##channel_shift_range=60.0,\n",
        "        #fill_mode='nearest',\n",
        "        #horizontal_flip=True\n",
        "        )\n",
        "\n",
        "validation_datagen = ImageDataGenerator(rescale=1./255)\n",
        "\n",
        "train_generator = train_datagen.flow_from_directory(\n",
        "        'dataset/train',\n",
        "        target_size=(224, 224),  # all images will be resized to 224x224\n",
        "        batch_size=32,\n",
        "        color_mode='rgb',\n",
        "        class_mode='categorical')  # more than two classes\n",
        "\n",
        "validation_generator = validation_datagen.flow_from_directory(\n",
        "        'dataset/validation',\n",
        "        target_size=(224, 224),\n",
        "        batch_size=32,\n",
        "        color_mode='rgb',\n",
        "        class_mode='categorical',\n",
        "        shuffle = False\n",
        ")"
      ],
      "metadata": {
        "colab": {
          "base_uri": "https://localhost:8080/"
        },
        "id": "6bmLLrwDuOze",
        "outputId": "cf2e466c-92a1-40e0-f5de-bbb72ed81952"
      },
      "execution_count": null,
      "outputs": [
        {
          "output_type": "stream",
          "name": "stdout",
          "text": [
            "Found 903 images belonging to 3 classes.\n",
            "Found 150 images belonging to 3 classes.\n"
          ]
        }
      ]
    },
    {
      "cell_type": "code",
      "source": [
        "### RETRIVE TEST LABEL FROM GENERATOR ###\n",
        "\n",
        "train_num = train_generator.samples\n",
        "\n",
        "label_train = []\n",
        "train_images = []\n",
        "for i in range((train_num // train_generator.batch_size)+1):\n",
        "    X,y = train_generator.next()\n",
        "    label_train.append(y)\n",
        "    train_images.append(X)\n",
        "        \n",
        "label_train = np.argmax(np.vstack(label_train), axis=1)\n",
        "train_images = np.vstack(train_images)\n",
        "train_images = np.array(train_images)\n",
        "label_train = np.array(label_train)\n",
        "label_train.shape"
      ],
      "metadata": {
        "colab": {
          "base_uri": "https://localhost:8080/"
        },
        "id": "1kJq0CnuwrDW",
        "outputId": "ab8429de-0652-49a2-a757-045b6f5dfa3a"
      },
      "execution_count": null,
      "outputs": [
        {
          "output_type": "execute_result",
          "data": {
            "text/plain": [
              "(903,)"
            ]
          },
          "metadata": {},
          "execution_count": 6
        }
      ]
    },
    {
      "cell_type": "code",
      "source": [
        "train_images.shape"
      ],
      "metadata": {
        "colab": {
          "base_uri": "https://localhost:8080/"
        },
        "id": "uNOKSgXk2rxl",
        "outputId": "c4193591-137c-4550-a24b-e453658c1eca"
      },
      "execution_count": null,
      "outputs": [
        {
          "output_type": "execute_result",
          "data": {
            "text/plain": [
              "(903, 224, 224, 3)"
            ]
          },
          "metadata": {},
          "execution_count": 99
        }
      ]
    },
    {
      "cell_type": "code",
      "source": [
        "### RETRIVE TEST LABEL FROM GENERATOR ###\n",
        "\n",
        "test_num = validation_generator.samples\n",
        "\n",
        "label_test = []\n",
        "test_images = []\n",
        "for i in range((test_num // validation_generator.batch_size)+1):\n",
        "    X,y = validation_generator.next()\n",
        "    label_test.append(y)\n",
        "    test_images.append(X)\n",
        "        \n",
        "label_test = np.argmax(np.vstack(label_test), axis=1)\n",
        "test_images = np.vstack(test_images)\n",
        "test_images = np.array(test_images)\n",
        "label_test = np.array(label_test)\n",
        "label_test.shape"
      ],
      "metadata": {
        "colab": {
          "base_uri": "https://localhost:8080/"
        },
        "id": "QC9v86g-xp8l",
        "outputId": "1b31e9c9-5b44-4821-ee8d-f35765c1a03a"
      },
      "execution_count": null,
      "outputs": [
        {
          "output_type": "execute_result",
          "data": {
            "text/plain": [
              "(150,)"
            ]
          },
          "metadata": {},
          "execution_count": 7
        }
      ]
    },
    {
      "cell_type": "code",
      "source": [
        "#Encode labels from text to integers.\n",
        "from sklearn import preprocessing\n",
        "le = preprocessing.LabelEncoder()\n",
        "le.fit(label_test)\n",
        "test_labels_encoded = le.transform(label_test)\n",
        "le.fit(label_train)\n",
        "train_labels_encoded = le.transform(label_train)\n",
        "\n",
        "#Split data into test and train datasets (already split but assigning to meaningful convention)\n",
        "x_train, y_train, x_test, y_test = train_images, train_labels_encoded, test_images, test_labels_encoded\n",
        "\n",
        "###################################################################\n",
        "# Normalize pixel values to between 0 and 1\n",
        "x_train, x_test = x_train / 255.0, x_test / 255.0\n"
      ],
      "metadata": {
        "id": "UampTYAyuOw2"
      },
      "execution_count": null,
      "outputs": []
    },
    {
      "cell_type": "code",
      "source": [
        "from keras.applications.vgg16 import VGG16\n",
        "\n",
        "VGG_model = VGG16(weights='imagenet',include_top=False,input_shape=(224, 224, 3))\n",
        "\n",
        "VGG_model.summary()"
      ],
      "metadata": {
        "colab": {
          "base_uri": "https://localhost:8080/"
        },
        "id": "3_GcGwEJuOvu",
        "outputId": "ce28a1d3-0b03-4b96-9509-5d75650fd391"
      },
      "execution_count": null,
      "outputs": [
        {
          "output_type": "stream",
          "name": "stdout",
          "text": [
            "Downloading data from https://storage.googleapis.com/tensorflow/keras-applications/vgg16/vgg16_weights_tf_dim_ordering_tf_kernels_notop.h5\n",
            "58892288/58889256 [==============================] - 0s 0us/step\n",
            "58900480/58889256 [==============================] - 0s 0us/step\n",
            "Model: \"vgg16\"\n",
            "_________________________________________________________________\n",
            " Layer (type)                Output Shape              Param #   \n",
            "=================================================================\n",
            " input_1 (InputLayer)        [(None, 224, 224, 3)]     0         \n",
            "                                                                 \n",
            " block1_conv1 (Conv2D)       (None, 224, 224, 64)      1792      \n",
            "                                                                 \n",
            " block1_conv2 (Conv2D)       (None, 224, 224, 64)      36928     \n",
            "                                                                 \n",
            " block1_pool (MaxPooling2D)  (None, 112, 112, 64)      0         \n",
            "                                                                 \n",
            " block2_conv1 (Conv2D)       (None, 112, 112, 128)     73856     \n",
            "                                                                 \n",
            " block2_conv2 (Conv2D)       (None, 112, 112, 128)     147584    \n",
            "                                                                 \n",
            " block2_pool (MaxPooling2D)  (None, 56, 56, 128)       0         \n",
            "                                                                 \n",
            " block3_conv1 (Conv2D)       (None, 56, 56, 256)       295168    \n",
            "                                                                 \n",
            " block3_conv2 (Conv2D)       (None, 56, 56, 256)       590080    \n",
            "                                                                 \n",
            " block3_conv3 (Conv2D)       (None, 56, 56, 256)       590080    \n",
            "                                                                 \n",
            " block3_pool (MaxPooling2D)  (None, 28, 28, 256)       0         \n",
            "                                                                 \n",
            " block4_conv1 (Conv2D)       (None, 28, 28, 512)       1180160   \n",
            "                                                                 \n",
            " block4_conv2 (Conv2D)       (None, 28, 28, 512)       2359808   \n",
            "                                                                 \n",
            " block4_conv3 (Conv2D)       (None, 28, 28, 512)       2359808   \n",
            "                                                                 \n",
            " block4_pool (MaxPooling2D)  (None, 14, 14, 512)       0         \n",
            "                                                                 \n",
            " block5_conv1 (Conv2D)       (None, 14, 14, 512)       2359808   \n",
            "                                                                 \n",
            " block5_conv2 (Conv2D)       (None, 14, 14, 512)       2359808   \n",
            "                                                                 \n",
            " block5_conv3 (Conv2D)       (None, 14, 14, 512)       2359808   \n",
            "                                                                 \n",
            " block5_pool (MaxPooling2D)  (None, 7, 7, 512)         0         \n",
            "                                                                 \n",
            "=================================================================\n",
            "Total params: 14,714,688\n",
            "Trainable params: 14,714,688\n",
            "Non-trainable params: 0\n",
            "_________________________________________________________________\n"
          ]
        }
      ]
    },
    {
      "cell_type": "code",
      "source": [
        "print(\"This is the number of trainable weights before freezing the conv base:\", len(VGG_model.trainable_weights))"
      ],
      "metadata": {
        "colab": {
          "base_uri": "https://localhost:8080/"
        },
        "id": "2GDg5idNuOtw",
        "outputId": "cb2f3943-90f1-4915-a48a-1292d72caf39"
      },
      "execution_count": null,
      "outputs": [
        {
          "output_type": "stream",
          "name": "stdout",
          "text": [
            "This is the number of trainable weights before freezing the conv base: 26\n"
          ]
        }
      ]
    },
    {
      "cell_type": "code",
      "source": [
        "VGG_model.trainable = False\n",
        "print(\"This is the number of trainable weights after freezing the conv base:\", len(VGG_model.trainable_weights))"
      ],
      "metadata": {
        "colab": {
          "base_uri": "https://localhost:8080/"
        },
        "id": "Wey5OKYzuOq-",
        "outputId": "54a9336d-23c1-4ca8-a9f7-e0db8fc7d74d"
      },
      "execution_count": null,
      "outputs": [
        {
          "output_type": "stream",
          "name": "stdout",
          "text": [
            "This is the number of trainable weights after freezing the conv base: 0\n"
          ]
        }
      ]
    },
    {
      "cell_type": "code",
      "source": [
        "VGG_model.trainable = True\n",
        "\n",
        "set_trainable = False\n",
        "for layer in VGG_model.layers:\n",
        "    if layer.name == 'block5_conv1':\n",
        "        set_trainable = True\n",
        "    if set_trainable:\n",
        "        layer.trainable = True\n",
        "    else:\n",
        "        layer.trainable = False\n",
        "\n",
        "VGG_model.summary()"
      ],
      "metadata": {
        "colab": {
          "base_uri": "https://localhost:8080/"
        },
        "id": "GQf1PrCfuOoC",
        "outputId": "68c68bc1-3e56-413a-d214-8015ef7b5586"
      },
      "execution_count": null,
      "outputs": [
        {
          "output_type": "stream",
          "name": "stdout",
          "text": [
            "Model: \"vgg16\"\n",
            "_________________________________________________________________\n",
            " Layer (type)                Output Shape              Param #   \n",
            "=================================================================\n",
            " input_1 (InputLayer)        [(None, 224, 224, 3)]     0         \n",
            "                                                                 \n",
            " block1_conv1 (Conv2D)       (None, 224, 224, 64)      1792      \n",
            "                                                                 \n",
            " block1_conv2 (Conv2D)       (None, 224, 224, 64)      36928     \n",
            "                                                                 \n",
            " block1_pool (MaxPooling2D)  (None, 112, 112, 64)      0         \n",
            "                                                                 \n",
            " block2_conv1 (Conv2D)       (None, 112, 112, 128)     73856     \n",
            "                                                                 \n",
            " block2_conv2 (Conv2D)       (None, 112, 112, 128)     147584    \n",
            "                                                                 \n",
            " block2_pool (MaxPooling2D)  (None, 56, 56, 128)       0         \n",
            "                                                                 \n",
            " block3_conv1 (Conv2D)       (None, 56, 56, 256)       295168    \n",
            "                                                                 \n",
            " block3_conv2 (Conv2D)       (None, 56, 56, 256)       590080    \n",
            "                                                                 \n",
            " block3_conv3 (Conv2D)       (None, 56, 56, 256)       590080    \n",
            "                                                                 \n",
            " block3_pool (MaxPooling2D)  (None, 28, 28, 256)       0         \n",
            "                                                                 \n",
            " block4_conv1 (Conv2D)       (None, 28, 28, 512)       1180160   \n",
            "                                                                 \n",
            " block4_conv2 (Conv2D)       (None, 28, 28, 512)       2359808   \n",
            "                                                                 \n",
            " block4_conv3 (Conv2D)       (None, 28, 28, 512)       2359808   \n",
            "                                                                 \n",
            " block4_pool (MaxPooling2D)  (None, 14, 14, 512)       0         \n",
            "                                                                 \n",
            " block5_conv1 (Conv2D)       (None, 14, 14, 512)       2359808   \n",
            "                                                                 \n",
            " block5_conv2 (Conv2D)       (None, 14, 14, 512)       2359808   \n",
            "                                                                 \n",
            " block5_conv3 (Conv2D)       (None, 14, 14, 512)       2359808   \n",
            "                                                                 \n",
            " block5_pool (MaxPooling2D)  (None, 7, 7, 512)         0         \n",
            "                                                                 \n",
            "=================================================================\n",
            "Total params: 14,714,688\n",
            "Trainable params: 7,079,424\n",
            "Non-trainable params: 7,635,264\n",
            "_________________________________________________________________\n"
          ]
        }
      ]
    },
    {
      "cell_type": "code",
      "source": [
        "#extract features using VGG imagenet weights\n",
        "#Train features\n",
        "train_feature_extractor=VGG_model.predict(x_train)\n",
        "train_features = train_feature_extractor.reshape(train_feature_extractor.shape[0], -1)\n",
        "#test features\n",
        "test_feature_extractor=VGG_model.predict(x_test)\n",
        "test_features = test_feature_extractor.reshape(test_feature_extractor.shape[0], -1)"
      ],
      "metadata": {
        "id": "LpDf0rxpuOk-"
      },
      "execution_count": null,
      "outputs": []
    },
    {
      "cell_type": "code",
      "source": [
        "############################################################\n",
        "#RANDOM FOREST implementation \n",
        "from sklearn.ensemble import RandomForestClassifier\n",
        "RF_model = RandomForestClassifier(n_estimators = 150, random_state = 42)"
      ],
      "metadata": {
        "id": "3c5_CHEGuOh1"
      },
      "execution_count": null,
      "outputs": []
    },
    {
      "cell_type": "code",
      "source": [
        "# Train the model on training data\n",
        "RF_model.fit(train_features, y_train) "
      ],
      "metadata": {
        "colab": {
          "base_uri": "https://localhost:8080/"
        },
        "id": "4xIHdheluOe9",
        "outputId": "59847635-8d9b-4cee-e1b0-aa399f27ff48"
      },
      "execution_count": null,
      "outputs": [
        {
          "output_type": "execute_result",
          "data": {
            "text/plain": [
              "RandomForestClassifier(n_estimators=150, random_state=42)"
            ]
          },
          "metadata": {},
          "execution_count": 15
        }
      ]
    },
    {
      "cell_type": "code",
      "source": [
        "prediction_RF = RF_model.predict(test_features)\n",
        "#Inverse le transform to get original label back. \n",
        "prediction_RF = le.inverse_transform(prediction_RF)\n",
        "#Print overall accuracy\n",
        "from sklearn import metrics\n",
        "from sklearn.metrics import confusion_matrix, classification_report,mean_absolute_error,log_loss\n",
        "print (\"Accuracy = \", metrics.accuracy_score(label_test, prediction_RF))\n",
        "print (\"Loss : \",mean_absolute_error(label_test, prediction_RF))"
      ],
      "metadata": {
        "colab": {
          "base_uri": "https://localhost:8080/"
        },
        "id": "W4vH51cDuObl",
        "outputId": "522486b7-2dc9-43b7-9962-69c0073f2d0b"
      },
      "execution_count": null,
      "outputs": [
        {
          "output_type": "stream",
          "name": "stdout",
          "text": [
            "Accuracy =  0.6866666666666666\n",
            "Loss :  0.35333333333333333\n"
          ]
        }
      ]
    },
    {
      "cell_type": "code",
      "source": [
        "#Confusion Matrix - verify accuracy of each class\n",
        "from sklearn.metrics import confusion_matrix, classification_report,mean_absolute_error,log_loss\n",
        "import seaborn as sns\n",
        "cm = confusion_matrix(label_test, prediction_RF)\n",
        "#print(cm)\n",
        "sns.heatmap(cm, annot=True)"
      ],
      "metadata": {
        "colab": {
          "base_uri": "https://localhost:8080/",
          "height": 283
        },
        "id": "Pp890qZJuOYd",
        "outputId": "ea4f49a4-0a3a-48ce-db79-2b73ba2ae1ad"
      },
      "execution_count": null,
      "outputs": [
        {
          "output_type": "execute_result",
          "data": {
            "text/plain": [
              "<matplotlib.axes._subplots.AxesSubplot at 0x7fbea235de50>"
            ]
          },
          "metadata": {},
          "execution_count": 52
        },
        {
          "output_type": "display_data",
          "data": {
            "image/png": "[encoded data removed]",
            "text/plain": [
              "<Figure size 432x288 with 2 Axes>"
            ]
          },
          "metadata": {
            "needs_background": "light"
          }
        }
      ]
    },
    {
      "cell_type": "code",
      "source": [
        "# View the classification report for test data and predictions\n",
        "print (classification_report(label_test, prediction_RF))"
      ],
      "metadata": {
        "id": "xuOiCM4q55EV",
        "colab": {
          "base_uri": "https://localhost:8080/"
        },
        "outputId": "5f4196ef-db72-4163-e03b-bc59757a9c1c"
      },
      "execution_count": null,
      "outputs": [
        {
          "output_type": "stream",
          "name": "stdout",
          "text": [
            "              precision    recall  f1-score   support\n",
            "\n",
            "           0       0.67      0.72      0.69        50\n",
            "           1       0.71      0.50      0.59        50\n",
            "           2       0.80      0.98      0.88        50\n",
            "\n",
            "    accuracy                           0.73       150\n",
            "   macro avg       0.73      0.73      0.72       150\n",
            "weighted avg       0.73      0.73      0.72       150\n",
            "\n"
          ]
        }
      ]
    },
    {
      "cell_type": "markdown",
      "source": [
        "-----------------"
      ],
      "metadata": {
        "id": "Yv5knY1eo3A4"
      }
    },
    {
      "cell_type": "markdown",
      "source": [
        "KNN "
      ],
      "metadata": {
        "id": "tWFF2Y3Qn4gK"
      }
    },
    {
      "cell_type": "code",
      "source": [
        "from sklearn.neighbors import KNeighborsClassifier\n",
        "knn = KNeighborsClassifier()\n",
        "\n",
        "knn.fit(train_features , y_train)"
      ],
      "metadata": {
        "colab": {
          "base_uri": "https://localhost:8080/"
        },
        "id": "Oe0U9TbzhIzA",
        "outputId": "582610c5-a305-43e6-9456-d80cd14f8491"
      },
      "execution_count": null,
      "outputs": [
        {
          "output_type": "execute_result",
          "data": {
            "text/plain": [
              "KNeighborsClassifier()"
            ]
          },
          "metadata": {},
          "execution_count": 45
        }
      ]
    },
    {
      "cell_type": "code",
      "source": [
        "prediction_KNN = knn.predict(test_features)\n",
        "#Inverse le transform to get original label back. \n",
        "prediction_KNN = le.inverse_transform(prediction_KNN)\n",
        "#Print overall accuracy\n",
        "from sklearn import metrics\n",
        "print (\"Accuracy = \", metrics.accuracy_score(label_test, prediction_KNN))\n",
        "print (\"Loss : \",mean_absolute_error(label_test, prediction_KNN))"
      ],
      "metadata": {
        "colab": {
          "base_uri": "https://localhost:8080/"
        },
        "id": "Pqc8yc7AnSv5",
        "outputId": "63bca83d-2840-4778-bde6-6e4bc959fa8e"
      },
      "execution_count": null,
      "outputs": [
        {
          "output_type": "stream",
          "name": "stdout",
          "text": [
            "Accuracy =  0.7933333333333333\n",
            "Loss :  0.23333333333333334\n"
          ]
        }
      ]
    },
    {
      "cell_type": "code",
      "source": [
        "#Confusion Matrix - verify accuracy of each class\n",
        "from sklearn.metrics import confusion_matrix\n",
        "import seaborn as sns\n",
        "cm = confusion_matrix(label_test, prediction_KNN)\n",
        "#print(cm)\n",
        "sns.heatmap(cm, annot=True)"
      ],
      "metadata": {
        "colab": {
          "base_uri": "https://localhost:8080/",
          "height": 283
        },
        "id": "SwblZP-2oKDT",
        "outputId": "bbf8fdab-06d8-4faf-c6a7-68ba18294c2c"
      },
      "execution_count": null,
      "outputs": [
        {
          "output_type": "execute_result",
          "data": {
            "text/plain": [
              "<matplotlib.axes._subplots.AxesSubplot at 0x7fbea23a1410>"
            ]
          },
          "metadata": {},
          "execution_count": 47
        },
        {
          "output_type": "display_data",
          "data": {
            "image/png": "[encoded data removed]",
            "text/plain": [
              "<Figure size 432x288 with 2 Axes>"
            ]
          },
          "metadata": {
            "needs_background": "light"
          }
        }
      ]
    },
    {
      "cell_type": "code",
      "source": [
        "# View the classification report for test data and predictions\n",
        "print(classification_report(label_test, prediction_KNN))"
      ],
      "metadata": {
        "colab": {
          "base_uri": "https://localhost:8080/"
        },
        "id": "ACu8tR4sn885",
        "outputId": "a8d53205-4a82-40ae-cdc0-155b3cb6f727"
      },
      "execution_count": null,
      "outputs": [
        {
          "output_type": "stream",
          "name": "stdout",
          "text": [
            "              precision    recall  f1-score   support\n",
            "\n",
            "           0       0.75      0.76      0.75        50\n",
            "           1       0.78      0.64      0.70        50\n",
            "           2       0.84      0.98      0.91        50\n",
            "\n",
            "    accuracy                           0.79       150\n",
            "   macro avg       0.79      0.79      0.79       150\n",
            "weighted avg       0.79      0.79      0.79       150\n",
            "\n"
          ]
        }
      ]
    },
    {
      "cell_type": "code",
      "source": [
        ""
      ],
      "metadata": {
        "id": "9Vc0WAUEoA4x"
      },
      "execution_count": null,
      "outputs": []
    }
  ]
}