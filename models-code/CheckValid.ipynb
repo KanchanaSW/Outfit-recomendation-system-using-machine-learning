{
  "nbformat": 4,
  "nbformat_minor": 0,
  "metadata": {
    "colab": {
      "name": "CheckValid.ipynb",
      "provenance": []
    },
    "kernelspec": {
      "name": "python3",
      "display_name": "Python 3"
    },
    "language_info": {
      "name": "python"
    }
  },
  "cells": [
    {
      "cell_type": "code",
      "execution_count": null,
      "metadata": {
        "colab": {
          "base_uri": "https://localhost:8080/"
        },
        "id": "42P_5TgUJV3x",
        "outputId": "0a3f6b62-9131-4788-ed0d-8aa507ac76d6"
      },
      "outputs": [
        {
          "output_type": "stream",
          "name": "stdout",
          "text": [
            "Mounted at /content/drive\n"
          ]
        }
      ],
      "source": [
        "from google.colab import drive\n",
        "drive.mount('/content/drive')"
      ]
    },
    {
      "cell_type": "code",
      "source": [
        "train_file = \"/content/drive/MyDrive/FYP/validCheck.zip\"\n",
        "#train_file = \"/content/drive/MyDrive/FYP/p.h.r.dataset.All.zip\"\n",
        "\n",
        "import zipfile\n",
        "\n",
        "with zipfile.ZipFile(train_file, 'r') as z:\n",
        "    z.extractall()"
      ],
      "metadata": {
        "id": "3vEaoIJfJXUw"
      },
      "execution_count": null,
      "outputs": []
    },
    {
      "cell_type": "code",
      "source": [
        "from keras.models import Sequential\n",
        "from keras.layers import Conv2D\n",
        "from keras.layers import MaxPooling2D\n",
        "from keras.layers import Flatten\n",
        "from keras.layers import Dense\n",
        "from keras import models\n",
        "from keras.preprocessing.image import ImageDataGenerator\n",
        "import os\n",
        "import cv2"
      ],
      "metadata": {
        "id": "p1hfXPiabO1m"
      },
      "execution_count": null,
      "outputs": []
    },
    {
      "cell_type": "code",
      "source": [
        "model = Sequential()\n",
        "model.add(Conv2D(32, (3, 3), input_shape = (224, 224, 3), activation = 'relu'))\n",
        "model.add(MaxPooling2D(pool_size = (2, 2)))\n",
        "\n",
        "model.add(Conv2D(32, (3, 3), activation = 'relu'))\n",
        "model.add(MaxPooling2D(pool_size = (2, 2)))\n",
        "\n",
        "model.add(Flatten())\n",
        "\n",
        "model.add(Dense(units = 128, activation = 'relu'))\n",
        "model.add(Dense(units = 1, activation = 'sigmoid'))\n",
        "\n",
        "# Compiling the CNN\n",
        "model.compile(optimizer = 'adam', loss = 'binary_crossentropy', metrics = ['accuracy'])\n"
      ],
      "metadata": {
        "id": "OQvaqjVLUbPw"
      },
      "execution_count": null,
      "outputs": []
    },
    {
      "cell_type": "code",
      "source": [
        "model.summary()"
      ],
      "metadata": {
        "colab": {
          "base_uri": "https://localhost:8080/"
        },
        "id": "9nHbqSNMlGfh",
        "outputId": "6303f9bf-af90-4bc8-ec55-541bbd0d3f57"
      },
      "execution_count": null,
      "outputs": [
        {
          "output_type": "stream",
          "name": "stdout",
          "text": [
            "Model: \"sequential\"\n",
            "_________________________________________________________________\n",
            " Layer (type)                Output Shape              Param #   \n",
            "=================================================================\n",
            " conv2d (Conv2D)             (None, 222, 222, 32)      896       \n",
            "                                                                 \n",
            " max_pooling2d (MaxPooling2D  (None, 111, 111, 32)     0         \n",
            " )                                                               \n",
            "                                                                 \n",
            " conv2d_1 (Conv2D)           (None, 109, 109, 32)      9248      \n",
            "                                                                 \n",
            " max_pooling2d_1 (MaxPooling  (None, 54, 54, 32)       0         \n",
            " 2D)                                                             \n",
            "                                                                 \n",
            " flatten (Flatten)           (None, 93312)             0         \n",
            "                                                                 \n",
            " dense (Dense)               (None, 128)               11944064  \n",
            "                                                                 \n",
            " dense_1 (Dense)             (None, 1)                 129       \n",
            "                                                                 \n",
            "=================================================================\n",
            "Total params: 11,954,337\n",
            "Trainable params: 11,954,337\n",
            "Non-trainable params: 0\n",
            "_________________________________________________________________\n"
          ]
        }
      ]
    },
    {
      "cell_type": "code",
      "source": [
        "# ImageDataGenerator\n",
        "\n",
        "train_datagen = ImageDataGenerator(rescale = 1./255,\n",
        "                                   shear_range = 0.2,\n",
        "                                   zoom_range = 0.2,\n",
        "                                   horizontal_flip = True)\n",
        "\n",
        "# \n",
        "training_set = train_datagen.flow_from_directory('validCheck/train',\n",
        "                                                 target_size = (224, 224),\n",
        "                                                 batch_size = 32,\n",
        "                                                 class_mode = 'binary')\n"
      ],
      "metadata": {
        "id": "iFukP_jmakp2",
        "colab": {
          "base_uri": "https://localhost:8080/"
        },
        "outputId": "c989a036-8e90-407c-e703-2521b84f1a28"
      },
      "execution_count": null,
      "outputs": [
        {
          "output_type": "stream",
          "name": "stdout",
          "text": [
            "Found 1806 images belonging to 2 classes.\n"
          ]
        }
      ]
    },
    {
      "cell_type": "code",
      "source": [
        "validation_datagen = ImageDataGenerator(rescale=1./255)\n",
        "\n",
        "validation_generator = validation_datagen.flow_from_directory(\n",
        "        'validCheck/validation',\n",
        "        target_size=(224, 224),\n",
        "        batch_size=32,\n",
        "        class_mode='binary',\n",
        "        shuffle = False\n",
        ")"
      ],
      "metadata": {
        "colab": {
          "base_uri": "https://localhost:8080/"
        },
        "id": "TO8TeBA2sAz3",
        "outputId": "aa1e820a-1623-422b-f1ef-fcf0336a168e"
      },
      "execution_count": null,
      "outputs": [
        {
          "output_type": "stream",
          "name": "stdout",
          "text": [
            "Found 302 images belonging to 2 classes.\n"
          ]
        }
      ]
    },
    {
      "cell_type": "code",
      "source": [
        "validation_generator.class_indices"
      ],
      "metadata": {
        "colab": {
          "base_uri": "https://localhost:8080/"
        },
        "id": "Mjt7xNeNrR6P",
        "outputId": "c3d95bbe-64f6-4a85-be6a-1cdc202c3ec1"
      },
      "execution_count": null,
      "outputs": [
        {
          "output_type": "execute_result",
          "data": {
            "text/plain": [
              "{'invalid': 0, 'valid': 1}"
            ]
          },
          "metadata": {},
          "execution_count": 16
        }
      ]
    },
    {
      "cell_type": "code",
      "source": [
        "model.fit(training_set,\n",
        "                         steps_per_epoch = 40,\n",
        "                         epochs = 7,\n",
        "                         validation_steps = 20,\n",
        "                         validation_data=validation_generator\n",
        "                    )\n",
        "\n",
        "print(\" trained Successfully!\")"
      ],
      "metadata": {
        "id": "oMfeBinbakk3",
        "colab": {
          "base_uri": "https://localhost:8080/"
        },
        "outputId": "61e2d720-1687-400c-9e80-6bdb4edabe8d"
      },
      "execution_count": null,
      "outputs": [
        {
          "output_type": "stream",
          "name": "stdout",
          "text": [
            "Epoch 1/5\n",
            "40/40 [==============================] - 100s 2s/step - loss: 0.0517 - accuracy: 0.9828 - val_loss: 0.0969 - val_accuracy: 0.9768\n",
            "Epoch 2/5\n",
            "40/40 [==============================] - 98s 2s/step - loss: 0.0311 - accuracy: 0.9898 - val_loss: 0.0834 - val_accuracy: 0.9768\n",
            "Epoch 3/5\n",
            "40/40 [==============================] - 97s 2s/step - loss: 0.0470 - accuracy: 0.9842 - val_loss: 0.1006 - val_accuracy: 0.9834\n",
            "Epoch 4/5\n",
            "40/40 [==============================] - 97s 2s/step - loss: 0.0332 - accuracy: 0.9881 - val_loss: 0.0963 - val_accuracy: 0.9801\n",
            "Epoch 5/5\n",
            "40/40 [==============================] - 98s 2s/step - loss: 0.0398 - accuracy: 0.9852 - val_loss: 0.1509 - val_accuracy: 0.9768\n",
            " trained Successfully!\n"
          ]
        }
      ]
    },
    {
      "cell_type": "code",
      "source": [
        "model.evaluate(validation_generator)"
      ],
      "metadata": {
        "colab": {
          "base_uri": "https://localhost:8080/"
        },
        "id": "p5A0BBupuYnp",
        "outputId": "4f0ae300-c67f-46ee-93a2-022f35d6b2a4"
      },
      "execution_count": null,
      "outputs": [
        {
          "output_type": "stream",
          "name": "stdout",
          "text": [
            "10/10 [==============================] - 8s 790ms/step - loss: 0.1509 - accuracy: 0.9768\n"
          ]
        },
        {
          "output_type": "execute_result",
          "data": {
            "text/plain": [
              "[0.1508782058954239, 0.9768211841583252]"
            ]
          },
          "metadata": {},
          "execution_count": 14
        }
      ]
    },
    {
      "cell_type": "code",
      "source": [
        "model.save('model1.h5')"
      ],
      "metadata": {
        "id": "ZYtrie-kblLi"
      },
      "execution_count": null,
      "outputs": []
    },
    {
      "cell_type": "code",
      "source": [
        "model=models.load_model('/content/model1.h5')\n",
        "\n",
        "\n",
        "image = cv2.imread('/content/validCheck/validation/invalid/articfox (100).jpg')\n",
        "image = cv2.resize(image, (224,224))\n",
        "image = image.reshape(1, 224, 224, 3)\n",
        "\n",
        "result = model.predict(image)\n",
        "if(result[0][0] == 1):\n",
        "    print(\"valid!\")\n",
        "    print(result)\n",
        "else:\n",
        "    print(\"invalid!\")\n",
        "    print(result)"
      ],
      "metadata": {
        "colab": {
          "base_uri": "https://localhost:8080/"
        },
        "id": "J7F6REQhUaj5",
        "outputId": "4fde46e5-450a-4c77-cbc6-23ce71fff1cb"
      },
      "execution_count": null,
      "outputs": [
        {
          "output_type": "stream",
          "name": "stdout",
          "text": [
            "invalid!\n",
            "[[0.]]\n"
          ]
        }
      ]
    },
    {
      "cell_type": "markdown",
      "source": [
        "testing 2"
      ],
      "metadata": {
        "id": "GRg1Irlpc4SI"
      }
    },
    {
      "cell_type": "code",
      "source": [
        "from keras.models import model_from_json\n",
        "# Convert the Model to json\n",
        "model_json = model.to_json()\n",
        "with open(\"model.json\",\"w\") as json_file:\n",
        "  json_file.write(model_json)\n",
        "\n",
        "# Save the weights in a seperate file\n",
        "model.save_weights(\"modelCheck.h5\")"
      ],
      "metadata": {
        "id": "ui-dkcikakfX"
      },
      "execution_count": null,
      "outputs": []
    },
    {
      "cell_type": "code",
      "source": [
        "\n",
        "os.stat('/content/model1.h5').st_size"
      ],
      "metadata": {
        "colab": {
          "base_uri": "https://localhost:8080/"
        },
        "id": "6zDnZo-Bakbu",
        "outputId": "5d85fd7b-7c72-4368-c7e1-a0f027165193"
      },
      "execution_count": null,
      "outputs": [
        {
          "output_type": "execute_result",
          "data": {
            "text/plain": [
              "143497584"
            ]
          },
          "metadata": {},
          "execution_count": 11
        }
      ]
    },
    {
      "cell_type": "code",
      "source": [
        "!cp /content/model1.h5 /content/drive/MyDrive/FYP/"
      ],
      "metadata": {
        "id": "_LYetNgdakYx"
      },
      "execution_count": null,
      "outputs": []
    },
    {
      "cell_type": "code",
      "source": [
        "training_set.class_indices"
      ],
      "metadata": {
        "colab": {
          "base_uri": "https://localhost:8080/"
        },
        "id": "NF7lY5WsXpF-",
        "outputId": "7cac006d-4f2b-4863-e510-0b88284d78f1"
      },
      "execution_count": null,
      "outputs": [
        {
          "output_type": "execute_result",
          "data": {
            "text/plain": [
              "{'invalid': 0, 'valid': 1}"
            ]
          },
          "metadata": {},
          "execution_count": 36
        }
      ]
    },
    {
      "cell_type": "code",
      "source": [
        "\n",
        "\n",
        "json_file = open('/content/model.json', 'r')\n",
        "loaded_model_json = json_file.read()\n",
        "json_file.close()\n",
        "loaded_model1 = model_from_json(loaded_model_json)\n",
        "\n",
        "# Load the weights\n",
        "loaded_model1.load_weights(\"/content/modelCheck.h5\")\n",
        "\n",
        "image = cv2.imread('/content/articfox (93).jpg')\n",
        "image = cv2.resize(image, (224,224))\n",
        "image = image.reshape(1, 224, 224, 3)\n",
        "\n",
        "result = loaded_model1.predict(image)\n",
        "if(result[0][0] == 1):\n",
        "    print(\"valid!\")\n",
        "else:\n",
        "    print(\"invalid!\")"
      ],
      "metadata": {
        "colab": {
          "base_uri": "https://localhost:8080/"
        },
        "id": "Jbcjy22zYTCA",
        "outputId": "2a304e25-4f6f-4a85-90d0-6d1c5d092d97"
      },
      "execution_count": null,
      "outputs": [
        {
          "output_type": "stream",
          "name": "stdout",
          "text": [
            "WARNING:tensorflow:6 out of the last 16 calls to <function Model.make_predict_function.<locals>.predict_function at 0x7f4418e9c7a0> triggered tf.function retracing. Tracing is expensive and the excessive number of tracings could be due to (1) creating @tf.function repeatedly in a loop, (2) passing tensors with different shapes, (3) passing Python objects instead of tensors. For (1), please define your @tf.function outside of the loop. For (2), @tf.function has experimental_relax_shapes=True option that relaxes argument shapes that can avoid unnecessary retracing. For (3), please refer to https://www.tensorflow.org/guide/function#controlling_retracing and https://www.tensorflow.org/api_docs/python/tf/function for  more details.\n",
            "invalid!\n"
          ]
        }
      ]
    },
    {
      "cell_type": "code",
      "source": [
        ""
      ],
      "metadata": {
        "id": "4zgDyc58Uat-"
      },
      "execution_count": null,
      "outputs": []
    },
    {
      "cell_type": "code",
      "source": [
        ""
      ],
      "metadata": {
        "id": "nagr6EsiUaba"
      },
      "execution_count": null,
      "outputs": []
    }
  ]
}