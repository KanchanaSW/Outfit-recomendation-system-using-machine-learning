{
  "cells": [
    {
      "cell_type": "code",
      "execution_count": null,
      "metadata": {
        "colab": {
          "base_uri": "https://localhost:8080/"
        },
        "id": "767AAv3fOsLj",
        "outputId": "322759b3-2185-4a58-83de-8b91552c788b"
      },
      "outputs": [
        {
          "output_type": "stream",
          "name": "stdout",
          "text": [
            "Mounted at /content/drive\n"
          ]
        }
      ],
      "source": [
        "from google.colab import drive\n",
        "drive.mount('/content/drive')"
      ]
    },
    {
      "cell_type": "code",
      "execution_count": null,
      "metadata": {
        "id": "iStWsSTKOvQ9"
      },
      "outputs": [],
      "source": [
        "train_file = \"/content/drive/MyDrive/FYP/dataset.zip\"\n",
        "\n",
        "import zipfile\n",
        "\n",
        "with zipfile.ZipFile(train_file, 'r') as z:\n",
        "    z.extractall()"
      ]
    },
    {
      "cell_type": "code",
      "source": [
        "from tensorflow.keras import optimizers\n",
        "from keras.models import Model, Sequential\n",
        "from keras.preprocessing.image import ImageDataGenerator\n",
        "from keras import layers\n",
        "from keras import models\n",
        "import numpy as np\n",
        "import os"
      ],
      "metadata": {
        "id": "-Kpnqbvy7h2Q"
      },
      "execution_count": null,
      "outputs": []
    },
    {
      "cell_type": "code",
      "execution_count": null,
      "metadata": {
        "id": "vrh9UsKQOvL7"
      },
      "outputs": [],
      "source": [
        ""
      ]
    },
    {
      "cell_type": "code",
      "execution_count": null,
      "metadata": {
        "id": "nsqNavlHOvGV"
      },
      "outputs": [],
      "source": [
        "base_dir = '/content/dataset'\n",
        "train_dir = os.path.join(base_dir, 'train')\n",
        "validation_dir = os.path.join(base_dir, 'validation')"
      ]
    },
    {
      "cell_type": "code",
      "execution_count": null,
      "metadata": {
        "colab": {
          "base_uri": "https://localhost:8080/"
        },
        "id": "fLTD_-olOu7w",
        "outputId": "7d9971a1-f5b9-47ef-fa1e-8fee4415ba03"
      },
      "outputs": [
        {
          "output_type": "stream",
          "name": "stdout",
          "text": [
            "Found 903 images belonging to 3 classes.\n",
            "Found 150 images belonging to 3 classes.\n"
          ]
        }
      ],
      "source": [
        "train_datagen = ImageDataGenerator(\n",
        "        rescale=1./255,\n",
        "        rotation_range=10,\n",
        "        width_shift_range=0.1,\n",
        "        height_shift_range=0.1,\n",
        "        #brightness_range=[0.4,0.7],\n",
        "        #channel_shift_range=60.0,\n",
        "        fill_mode='nearest',\n",
        "        horizontal_flip=True)\n",
        "\n",
        "validation_datagen = ImageDataGenerator(rescale=1./255)\n",
        "\n",
        "train_generator = train_datagen.flow_from_directory(\n",
        "        'dataset/train',\n",
        "        target_size=(224, 224),  # all images will be resized to 224x224\n",
        "        batch_size=32,\n",
        "        color_mode='rgb',\n",
        "        class_mode='categorical')  # more than two classes\n",
        "\n",
        "validation_generator = validation_datagen.flow_from_directory(\n",
        "        'dataset/validation',\n",
        "        target_size=(224, 224),\n",
        "        batch_size=32,\n",
        "        color_mode='rgb',\n",
        "        class_mode='categorical',\n",
        "        shuffle = False\n",
        ")"
      ]
    },
    {
      "cell_type": "code",
      "execution_count": null,
      "metadata": {
        "id": "g6xLJ9SVZA6H"
      },
      "outputs": [],
      "source": [
        "# augmented images from train generator look like\n",
        "import matplotlib.pyplot as plt\n",
        "\n",
        "plt.figure(figsize=(12, 12))\n",
        "for i in range(0, 12):\n",
        "    plt.subplot(4, 3, i+1)\n",
        "    for X_batch, Y_batch in train_generator:\n",
        "        image = X_batch[0]\n",
        "        plt.imshow(image)\n",
        "        break\n",
        "plt.tight_layout()\n",
        "plt.grid(False)\n",
        "plt.show()"
      ]
    },
    {
      "cell_type": "code",
      "source": [
        "\"\"\"from keras.applications.vgg16 import VGG16\n",
        "#Load VGG model with imagenet trained weights and without classifier/fully connected layers\n",
        "conv_base = VGG16(weights='imagenet',include_top=False,input_shape=(224, 224, 3))\n",
        "\n",
        "#Make loaded layers as non-trainable.  important for to working with pre-trained weights\n",
        "for layer in conv_base.layers:\n",
        "\tlayer.trainable = False\n",
        "\n",
        "conv_base.summary()\"\"\""
      ],
      "metadata": {
        "id": "o_MKvgNtWtjm"
      },
      "execution_count": null,
      "outputs": []
    },
    {
      "cell_type": "code",
      "execution_count": null,
      "metadata": {
        "id": "VLHpIGG0OvIg",
        "colab": {
          "base_uri": "https://localhost:8080/"
        },
        "outputId": "3bbf7cb8-73b2-45da-996c-ecd3d0305308"
      },
      "outputs": [
        {
          "output_type": "stream",
          "name": "stdout",
          "text": [
            "Downloading data from https://storage.googleapis.com/tensorflow/keras-applications/vgg16/vgg16_weights_tf_dim_ordering_tf_kernels_notop.h5\n",
            "58892288/58889256 [==============================] - 0s 0us/step\n",
            "58900480/58889256 [==============================] - 0s 0us/step\n",
            "Model: \"vgg16\"\n",
            "_________________________________________________________________\n",
            " Layer (type)                Output Shape              Param #   \n",
            "=================================================================\n",
            " input_1 (InputLayer)        [(None, 224, 224, 3)]     0         \n",
            "                                                                 \n",
            " block1_conv1 (Conv2D)       (None, 224, 224, 64)      1792      \n",
            "                                                                 \n",
            " block1_conv2 (Conv2D)       (None, 224, 224, 64)      36928     \n",
            "                                                                 \n",
            " block1_pool (MaxPooling2D)  (None, 112, 112, 64)      0         \n",
            "                                                                 \n",
            " block2_conv1 (Conv2D)       (None, 112, 112, 128)     73856     \n",
            "                                                                 \n",
            " block2_conv2 (Conv2D)       (None, 112, 112, 128)     147584    \n",
            "                                                                 \n",
            " block2_pool (MaxPooling2D)  (None, 56, 56, 128)       0         \n",
            "                                                                 \n",
            " block3_conv1 (Conv2D)       (None, 56, 56, 256)       295168    \n",
            "                                                                 \n",
            " block3_conv2 (Conv2D)       (None, 56, 56, 256)       590080    \n",
            "                                                                 \n",
            " block3_conv3 (Conv2D)       (None, 56, 56, 256)       590080    \n",
            "                                                                 \n",
            " block3_pool (MaxPooling2D)  (None, 28, 28, 256)       0         \n",
            "                                                                 \n",
            " block4_conv1 (Conv2D)       (None, 28, 28, 512)       1180160   \n",
            "                                                                 \n",
            " block4_conv2 (Conv2D)       (None, 28, 28, 512)       2359808   \n",
            "                                                                 \n",
            " block4_conv3 (Conv2D)       (None, 28, 28, 512)       2359808   \n",
            "                                                                 \n",
            " block4_pool (MaxPooling2D)  (None, 14, 14, 512)       0         \n",
            "                                                                 \n",
            " block5_conv1 (Conv2D)       (None, 14, 14, 512)       2359808   \n",
            "                                                                 \n",
            " block5_conv2 (Conv2D)       (None, 14, 14, 512)       2359808   \n",
            "                                                                 \n",
            " block5_conv3 (Conv2D)       (None, 14, 14, 512)       2359808   \n",
            "                                                                 \n",
            " block5_pool (MaxPooling2D)  (None, 7, 7, 512)         0         \n",
            "                                                                 \n",
            "=================================================================\n",
            "Total params: 14,714,688\n",
            "Trainable params: 14,714,688\n",
            "Non-trainable params: 0\n",
            "_________________________________________________________________\n"
          ]
        }
      ],
      "source": [
        "from keras.applications.vgg16 import VGG16\n",
        "\n",
        "conv_base = VGG16(weights='imagenet',include_top=False,input_shape=(224, 224, 3))\n",
        "\n",
        "conv_base.summary()"
      ]
    },
    {
      "cell_type": "code",
      "execution_count": null,
      "metadata": {
        "id": "quzvaVbTOu9U",
        "colab": {
          "base_uri": "https://localhost:8080/"
        },
        "outputId": "0e8fd18d-6ebc-4389-d1c1-97aa3698fbfc"
      },
      "outputs": [
        {
          "output_type": "stream",
          "name": "stdout",
          "text": [
            "Model: \"sequential\"\n",
            "_________________________________________________________________\n",
            " Layer (type)                Output Shape              Param #   \n",
            "=================================================================\n",
            " vgg16 (Functional)          (None, 7, 7, 512)         14714688  \n",
            "                                                                 \n",
            " flatten (Flatten)           (None, 25088)             0         \n",
            "                                                                 \n",
            " dense (Dense)               (None, 256)               6422784   \n",
            "                                                                 \n",
            " dropout (Dropout)           (None, 256)               0         \n",
            "                                                                 \n",
            " dense_1 (Dense)             (None, 128)               32896     \n",
            "                                                                 \n",
            " dropout_1 (Dropout)         (None, 128)               0         \n",
            "                                                                 \n",
            " dense_2 (Dense)             (None, 3)                 387       \n",
            "                                                                 \n",
            "=================================================================\n",
            "Total params: 21,170,755\n",
            "Trainable params: 21,170,755\n",
            "Non-trainable params: 0\n",
            "_________________________________________________________________\n"
          ]
        }
      ],
      "source": [
        "model = models.Sequential()\n",
        "model.add(conv_base)\n",
        "model.add(layers.Flatten())\n",
        "model.add(layers.Dense(256, activation='relu'))\n",
        "model.add(layers.Dropout(0.5))\n",
        "model.add(layers.Dense(128, activation='relu'))\n",
        "model.add(layers.Dropout(0.3))\n",
        "model.add(layers.Dense(3, activation='softmax'))\n",
        "model.summary()"
      ]
    },
    {
      "cell_type": "code",
      "source": [
        "print(\"This is the number of trainable weights before freezing the conv base:\", len(conv_base.trainable_weights))"
      ],
      "metadata": {
        "colab": {
          "base_uri": "https://localhost:8080/"
        },
        "id": "xqhDWT8WY8vE",
        "outputId": "4760dd1b-6909-42de-f065-892ccb7e59c7"
      },
      "execution_count": null,
      "outputs": [
        {
          "output_type": "stream",
          "name": "stdout",
          "text": [
            "This is the number of trainable weights before freezing the conv base: 26\n"
          ]
        }
      ]
    },
    {
      "cell_type": "code",
      "source": [
        "conv_base.trainable = False\n",
        "print(\"This is the number of trainable weights after freezing the conv base:\", len(conv_base.trainable_weights))"
      ],
      "metadata": {
        "colab": {
          "base_uri": "https://localhost:8080/"
        },
        "id": "upHee5soZSVu",
        "outputId": "f5278c1b-75e8-499e-aee6-ec73c6e51764"
      },
      "execution_count": null,
      "outputs": [
        {
          "output_type": "stream",
          "name": "stdout",
          "text": [
            "This is the number of trainable weights after freezing the conv base: 0\n"
          ]
        }
      ]
    },
    {
      "cell_type": "code",
      "source": [
        "conv_base.trainable = True\n",
        "\n",
        "set_trainable = False\n",
        "for layer in conv_base.layers:\n",
        "    if layer.name == 'block5_conv1':\n",
        "        set_trainable = True\n",
        "    if set_trainable:\n",
        "        layer.trainable = True\n",
        "    else:\n",
        "        layer.trainable = False\n",
        "\n",
        "conv_base.summary()"
      ],
      "metadata": {
        "colab": {
          "base_uri": "https://localhost:8080/"
        },
        "id": "3TihuMxgyr3C",
        "outputId": "e57a0292-ad36-48e4-b0e8-42c3f80e8495"
      },
      "execution_count": null,
      "outputs": [
        {
          "output_type": "stream",
          "name": "stdout",
          "text": [
            "Model: \"vgg16\"\n",
            "_________________________________________________________________\n",
            " Layer (type)                Output Shape              Param #   \n",
            "=================================================================\n",
            " input_1 (InputLayer)        [(None, 224, 224, 3)]     0         \n",
            "                                                                 \n",
            " block1_conv1 (Conv2D)       (None, 224, 224, 64)      1792      \n",
            "                                                                 \n",
            " block1_conv2 (Conv2D)       (None, 224, 224, 64)      36928     \n",
            "                                                                 \n",
            " block1_pool (MaxPooling2D)  (None, 112, 112, 64)      0         \n",
            "                                                                 \n",
            " block2_conv1 (Conv2D)       (None, 112, 112, 128)     73856     \n",
            "                                                                 \n",
            " block2_conv2 (Conv2D)       (None, 112, 112, 128)     147584    \n",
            "                                                                 \n",
            " block2_pool (MaxPooling2D)  (None, 56, 56, 128)       0         \n",
            "                                                                 \n",
            " block3_conv1 (Conv2D)       (None, 56, 56, 256)       295168    \n",
            "                                                                 \n",
            " block3_conv2 (Conv2D)       (None, 56, 56, 256)       590080    \n",
            "                                                                 \n",
            " block3_conv3 (Conv2D)       (None, 56, 56, 256)       590080    \n",
            "                                                                 \n",
            " block3_pool (MaxPooling2D)  (None, 28, 28, 256)       0         \n",
            "                                                                 \n",
            " block4_conv1 (Conv2D)       (None, 28, 28, 512)       1180160   \n",
            "                                                                 \n",
            " block4_conv2 (Conv2D)       (None, 28, 28, 512)       2359808   \n",
            "                                                                 \n",
            " block4_conv3 (Conv2D)       (None, 28, 28, 512)       2359808   \n",
            "                                                                 \n",
            " block4_pool (MaxPooling2D)  (None, 14, 14, 512)       0         \n",
            "                                                                 \n",
            " block5_conv1 (Conv2D)       (None, 14, 14, 512)       2359808   \n",
            "                                                                 \n",
            " block5_conv2 (Conv2D)       (None, 14, 14, 512)       2359808   \n",
            "                                                                 \n",
            " block5_conv3 (Conv2D)       (None, 14, 14, 512)       2359808   \n",
            "                                                                 \n",
            " block5_pool (MaxPooling2D)  (None, 7, 7, 512)         0         \n",
            "                                                                 \n",
            "=================================================================\n",
            "Total params: 14,714,688\n",
            "Trainable params: 7,079,424\n",
            "Non-trainable params: 7,635,264\n",
            "_________________________________________________________________\n"
          ]
        }
      ]
    },
    {
      "cell_type": "code",
      "source": [
        ""
      ],
      "metadata": {
        "id": "wbQdOlhEY6Mz"
      },
      "execution_count": null,
      "outputs": []
    },
    {
      "cell_type": "code",
      "execution_count": null,
      "metadata": {
        "id": "RxakbRfGOvEr"
      },
      "outputs": [],
      "source": [
        "#datagen = ImageDataGenerator(rescale=1./255)\n",
        "batch_size = 32"
      ]
    },
    {
      "cell_type": "code",
      "execution_count": null,
      "metadata": {
        "id": "UknuC3eROu5-"
      },
      "outputs": [],
      "source": [
        "model.compile(loss='categorical_crossentropy',\n",
        "              optimizer=optimizers.Adam(learning_rate=2e-5),\n",
        "              metrics=['acc'])"
      ]
    },
    {
      "cell_type": "code",
      "execution_count": null,
      "metadata": {
        "colab": {
          "base_uri": "https://localhost:8080/"
        },
        "id": "J863i7JzOu4u",
        "outputId": "7e7c8982-7122-499a-c4dd-bae32d831443"
      },
      "outputs": [
        {
          "output_type": "stream",
          "name": "stdout",
          "text": [
            "Epoch 1/40\n",
            "29/29 [==============================] - 65s 1s/step - loss: 1.1011 - acc: 0.4319 - val_loss: 0.8641 - val_acc: 0.6667\n",
            "Epoch 2/40\n",
            "29/29 [==============================] - 35s 1s/step - loss: 0.8126 - acc: 0.6456 - val_loss: 0.6426 - val_acc: 0.7600\n",
            "Epoch 3/40\n",
            "29/29 [==============================] - 34s 1s/step - loss: 0.6471 - acc: 0.7209 - val_loss: 0.5232 - val_acc: 0.7800\n",
            "Epoch 4/40\n",
            "29/29 [==============================] - 34s 1s/step - loss: 0.5855 - acc: 0.7176 - val_loss: 0.4759 - val_acc: 0.8000\n",
            "Epoch 5/40\n",
            "29/29 [==============================] - 34s 1s/step - loss: 0.4821 - acc: 0.7918 - val_loss: 0.4258 - val_acc: 0.8133\n",
            "Epoch 6/40\n",
            "29/29 [==============================] - 34s 1s/step - loss: 0.4215 - acc: 0.8306 - val_loss: 0.3985 - val_acc: 0.8400\n",
            "Epoch 7/40\n",
            "29/29 [==============================] - 34s 1s/step - loss: 0.4151 - acc: 0.8283 - val_loss: 0.3448 - val_acc: 0.8533\n",
            "Epoch 8/40\n",
            "29/29 [==============================] - 33s 1s/step - loss: 0.3550 - acc: 0.8560 - val_loss: 0.3357 - val_acc: 0.8600\n",
            "Epoch 9/40\n",
            "29/29 [==============================] - 33s 1s/step - loss: 0.3290 - acc: 0.8771 - val_loss: 0.3320 - val_acc: 0.8667\n",
            "Epoch 10/40\n",
            "29/29 [==============================] - 33s 1s/step - loss: 0.3124 - acc: 0.8882 - val_loss: 0.3743 - val_acc: 0.8533\n",
            "Epoch 11/40\n",
            "29/29 [==============================] - 33s 1s/step - loss: 0.2814 - acc: 0.8948 - val_loss: 0.3396 - val_acc: 0.8467\n",
            "Epoch 12/40\n",
            "29/29 [==============================] - 34s 1s/step - loss: 0.2535 - acc: 0.9037 - val_loss: 0.3254 - val_acc: 0.8733\n",
            "Epoch 13/40\n",
            "29/29 [==============================] - 34s 1s/step - loss: 0.2161 - acc: 0.9214 - val_loss: 0.3466 - val_acc: 0.8600\n",
            "Epoch 14/40\n",
            "29/29 [==============================] - 33s 1s/step - loss: 0.2257 - acc: 0.9169 - val_loss: 0.3162 - val_acc: 0.8600\n",
            "Epoch 15/40\n",
            "29/29 [==============================] - 33s 1s/step - loss: 0.1851 - acc: 0.9336 - val_loss: 0.3083 - val_acc: 0.8667\n",
            "Epoch 16/40\n",
            "29/29 [==============================] - 33s 1s/step - loss: 0.1839 - acc: 0.9446 - val_loss: 0.3321 - val_acc: 0.8800\n",
            "Epoch 17/40\n",
            "29/29 [==============================] - 34s 1s/step - loss: 0.1553 - acc: 0.9424 - val_loss: 0.3344 - val_acc: 0.8733\n",
            "Epoch 18/40\n",
            "29/29 [==============================] - 34s 1s/step - loss: 0.1237 - acc: 0.9635 - val_loss: 0.2741 - val_acc: 0.9000\n",
            "Epoch 19/40\n",
            "29/29 [==============================] - 35s 1s/step - loss: 0.1428 - acc: 0.9535 - val_loss: 0.2916 - val_acc: 0.8800\n",
            "Epoch 20/40\n",
            "29/29 [==============================] - 35s 1s/step - loss: 0.1179 - acc: 0.9590 - val_loss: 0.3676 - val_acc: 0.8733\n",
            "Epoch 21/40\n",
            "29/29 [==============================] - 34s 1s/step - loss: 0.1031 - acc: 0.9690 - val_loss: 0.3453 - val_acc: 0.8800\n",
            "Epoch 22/40\n",
            "29/29 [==============================] - 34s 1s/step - loss: 0.1538 - acc: 0.9446 - val_loss: 0.3994 - val_acc: 0.8733\n",
            "Epoch 23/40\n",
            "29/29 [==============================] - 35s 1s/step - loss: 0.1071 - acc: 0.9612 - val_loss: 0.3630 - val_acc: 0.8933\n",
            "Epoch 24/40\n",
            "29/29 [==============================] - 35s 1s/step - loss: 0.0696 - acc: 0.9812 - val_loss: 0.4482 - val_acc: 0.8733\n",
            "Epoch 25/40\n",
            "29/29 [==============================] - 34s 1s/step - loss: 0.0786 - acc: 0.9723 - val_loss: 0.3592 - val_acc: 0.8933\n",
            "Epoch 26/40\n",
            "29/29 [==============================] - 34s 1s/step - loss: 0.0834 - acc: 0.9679 - val_loss: 0.3632 - val_acc: 0.8933\n",
            "Epoch 27/40\n",
            "29/29 [==============================] - 33s 1s/step - loss: 0.0710 - acc: 0.9790 - val_loss: 0.3773 - val_acc: 0.8867\n",
            "Epoch 28/40\n",
            "29/29 [==============================] - 34s 1s/step - loss: 0.0807 - acc: 0.9756 - val_loss: 0.3300 - val_acc: 0.8867\n",
            "Epoch 29/40\n",
            "29/29 [==============================] - 34s 1s/step - loss: 0.0733 - acc: 0.9767 - val_loss: 0.3602 - val_acc: 0.9133\n",
            "Epoch 30/40\n",
            "29/29 [==============================] - 34s 1s/step - loss: 0.0477 - acc: 0.9900 - val_loss: 0.4097 - val_acc: 0.9067\n",
            "Epoch 31/40\n",
            "29/29 [==============================] - 33s 1s/step - loss: 0.0563 - acc: 0.9834 - val_loss: 0.3038 - val_acc: 0.9000\n",
            "Epoch 32/40\n",
            "29/29 [==============================] - 33s 1s/step - loss: 0.0426 - acc: 0.9889 - val_loss: 0.3194 - val_acc: 0.8933\n",
            "Epoch 33/40\n",
            "29/29 [==============================] - 33s 1s/step - loss: 0.0438 - acc: 0.9900 - val_loss: 0.3165 - val_acc: 0.9067\n",
            "Epoch 34/40\n",
            "29/29 [==============================] - 34s 1s/step - loss: 0.0336 - acc: 0.9889 - val_loss: 0.3510 - val_acc: 0.9067\n",
            "Epoch 35/40\n",
            "29/29 [==============================] - 33s 1s/step - loss: 0.0403 - acc: 0.9834 - val_loss: 0.3278 - val_acc: 0.9000\n",
            "Epoch 36/40\n",
            "29/29 [==============================] - 33s 1s/step - loss: 0.0318 - acc: 0.9911 - val_loss: 0.2810 - val_acc: 0.9200\n",
            "Epoch 37/40\n",
            "29/29 [==============================] - 33s 1s/step - loss: 0.0358 - acc: 0.9867 - val_loss: 0.3080 - val_acc: 0.9400\n",
            "Epoch 38/40\n",
            "29/29 [==============================] - 34s 1s/step - loss: 0.0429 - acc: 0.9823 - val_loss: 0.2926 - val_acc: 0.9333\n",
            "Epoch 39/40\n",
            "29/29 [==============================] - 33s 1s/step - loss: 0.0485 - acc: 0.9845 - val_loss: 0.2929 - val_acc: 0.9333\n",
            "Epoch 40/40\n",
            "29/29 [==============================] - 34s 1s/step - loss: 0.0298 - acc: 0.9900 - val_loss: 0.3111 - val_acc: 0.9200\n"
          ]
        }
      ],
      "source": [
        "history = model.fit(\n",
        "          train_generator,\n",
        "          epochs=40,\n",
        "          validation_data=validation_generator\n",
        "          )"
      ]
    },
    {
      "cell_type": "code",
      "execution_count": null,
      "metadata": {
        "id": "BYqVORx2hvff",
        "colab": {
          "base_uri": "https://localhost:8080/"
        },
        "outputId": "cf86a757-e3a1-4f47-d158-45bea689c064"
      },
      "outputs": [
        {
          "output_type": "stream",
          "name": "stdout",
          "text": [
            "5/5 [==============================] - 4s 758ms/step - loss: 0.3111 - acc: 0.9200\n"
          ]
        },
        {
          "output_type": "execute_result",
          "data": {
            "text/plain": [
              "[0.31113025546073914, 0.9200000166893005]"
            ]
          },
          "metadata": {},
          "execution_count": 15
        }
      ],
      "source": [
        "model.evaluate(validation_generator)"
      ]
    },
    {
      "cell_type": "code",
      "execution_count": null,
      "metadata": {
        "id": "jh027qZbOux7",
        "colab": {
          "base_uri": "https://localhost:8080/",
          "height": 573
        },
        "outputId": "9b09f3b7-d497-49e0-fa4f-02bba5f4d318"
      },
      "outputs": [
        {
          "output_type": "display_data",
          "data": {
            "image/png": "[encoded data removed]",
            "text/plain": [
              "<Figure size 432x288 with 1 Axes>"
            ]
          },
          "metadata": {
            "needs_background": "light"
          }
        },
        {
          "output_type": "display_data",
          "data": {
            "image/png": "[encoded data removed]",
            "text/plain": [
              "<Figure size 432x288 with 1 Axes>"
            ]
          },
          "metadata": {
            "needs_background": "light"
          }
        }
      ],
      "source": [
        "import matplotlib.pyplot as plt\n",
        "\n",
        "#plot the training and validation accuracy and loss at each epoch\n",
        "loss = history.history['loss']\n",
        "val_loss = history.history['val_loss']\n",
        "epochs = range(1, len(loss) + 1)\n",
        "plt.plot(epochs, loss, 'y', label='Training loss')\n",
        "plt.plot(epochs, val_loss, 'r', label='Validation loss')\n",
        "plt.title('Training and validation loss')\n",
        "plt.xlabel('Epochs')\n",
        "plt.ylabel('Loss')\n",
        "plt.legend()\n",
        "plt.show()\n",
        "acc = history.history['acc']\n",
        "val_acc = history.history['val_acc']\n",
        "plt.plot(epochs, acc, 'y', label='Training acc')\n",
        "plt.plot(epochs, val_acc, 'r', label='Validation acc')\n",
        "plt.title('Training and validation accuracy')\n",
        "plt.xlabel('Epochs')\n",
        "plt.ylabel('Accuracy')\n",
        "plt.legend()\n",
        "plt.show()"
      ]
    },
    {
      "cell_type": "code",
      "execution_count": null,
      "metadata": {
        "colab": {
          "base_uri": "https://localhost:8080/",
          "height": 283
        },
        "id": "N1YdkVh4Y0wh",
        "outputId": "a9f99966-357c-48c4-bcb3-9eff58c8d62f"
      },
      "outputs": [
        {
          "output_type": "execute_result",
          "data": {
            "text/plain": [
              "<matplotlib.axes._subplots.AxesSubplot at 0x7fb22f015650>"
            ]
          },
          "metadata": {},
          "execution_count": 17
        },
        {
          "output_type": "display_data",
          "data": {
            "image/png": "[encoded data removed]",
            "text/plain": [
              "<Figure size 432x288 with 2 Axes>"
            ]
          },
          "metadata": {
            "needs_background": "light"
          }
        }
      ],
      "source": [
        "#Confusion Matrix - verify accuracy of each class\n",
        "from sklearn.metrics import confusion_matrix\n",
        "import seaborn as sns\n",
        "\n",
        "validation_generator.reset()\n",
        "y_pred = model.predict(validation_generator)\n",
        "y_pred = y_pred.argmax(-1)\n",
        "\n",
        "cm = confusion_matrix(validation_generator.classes, y_pred)\n",
        "#print(cm)\n",
        "sns.heatmap(cm, annot=True)"
      ]
    },
    {
      "cell_type": "code",
      "execution_count": null,
      "metadata": {
        "id": "_VQHfEwSBzbj"
      },
      "outputs": [],
      "source": [
        ""
      ]
    },
    {
      "cell_type": "code",
      "execution_count": null,
      "metadata": {
        "id": "EuOG51r15Ex6"
      },
      "outputs": [],
      "source": [
        ""
      ]
    },
    {
      "cell_type": "code",
      "execution_count": null,
      "metadata": {
        "id": "DFxYbdF8trrc"
      },
      "outputs": [],
      "source": [
        "model.save('models/modelTF1.h5') "
      ]
    },
    {
      "cell_type": "code",
      "execution_count": null,
      "metadata": {
        "colab": {
          "base_uri": "https://localhost:8080/"
        },
        "id": "kqDPFSm9ueu1",
        "outputId": "1ecaafa2-a8be-44be-da84-0f42b134e666"
      },
      "outputs": [
        {
          "output_type": "execute_result",
          "data": {
            "text/plain": [
              "193058992"
            ]
          },
          "metadata": {},
          "execution_count": 19
        }
      ],
      "source": [
        "os.stat('/content/models/modelTF1.h5').st_size"
      ]
    },
    {
      "cell_type": "code",
      "execution_count": null,
      "metadata": {
        "id": "8gSNjTM1GQ3p"
      },
      "outputs": [],
      "source": [
        "!cp /content/models/modelTF1.h5 /content/drive/MyDrive/FYP"
      ]
    },
    {
      "cell_type": "markdown",
      "metadata": {
        "id": "hzzLTX5LP580"
      },
      "source": [
        "Testing"
      ]
    },
    {
      "cell_type": "code",
      "execution_count": null,
      "metadata": {
        "id": "zRjV86rLP405"
      },
      "outputs": [],
      "source": [
        "import cv2\n",
        "img_path = '/content/dataset/validation/pear/pear.n (302).jpg'\n",
        "SIZE = 224\n",
        "img = cv2.imread(img_path, cv2.IMREAD_COLOR)\n",
        "img = cv2.resize(img, (SIZE, SIZE))\n",
        "img = cv2.cvtColor(img, cv2.COLOR_RGB2BGR)\n",
        "plt.imshow(img)\n",
        "\n",
        "input_img = np.expand_dims(img, axis=0)\n",
        "prediction_img = model.predict(input_img)\n",
        "prediction_img = np.argmax(prediction_img, axis=1)\n",
        "print(\"The prediction for this image is: \", prediction_img)"
      ]
    },
    {
      "cell_type": "code",
      "source": [
        ""
      ],
      "metadata": {
        "id": "0IowuAfrrhPO"
      },
      "execution_count": null,
      "outputs": []
    }
  ],
  "metadata": {
    "accelerator": "GPU",
    "colab": {
      "collapsed_sections": [],
      "name": "ANN-TF.ipynb",
      "provenance": []
    },
    "kernelspec": {
      "display_name": "Python 3",
      "name": "python3"
    },
    "language_info": {
      "name": "python"
    }
  },
  "nbformat": 4,
  "nbformat_minor": 0
}